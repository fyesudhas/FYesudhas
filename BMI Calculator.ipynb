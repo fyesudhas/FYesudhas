{
 "cells": [
  {
   "cell_type": "code",
   "execution_count": null,
   "id": "4c0db9e9-6861-40b3-a331-d1c2735dfa48",
   "metadata": {},
   "outputs": [],
   "source": [
    "# Creating a BMI Calculator"
   ]
  },
  {
   "cell_type": "code",
   "execution_count": null,
   "id": "79c86439-3539-4f77-9d10-318233c99510",
   "metadata": {},
   "outputs": [],
   "source": []
  },
  {
   "cell_type": "code",
   "execution_count": 54,
   "id": "4e29b831-96de-4fb1-b4d6-7d1c4f7468e6",
   "metadata": {},
   "outputs": [
    {
     "name": "stdin",
     "output_type": "stream",
     "text": [
      "Please enter your name:  Jeraldine\n",
      "Enter your weight in pounds:  115\n",
      "Enter your height in feet and inches (Ex: 5.9):  5\n"
     ]
    },
    {
     "name": "stdout",
     "output_type": "stream",
     "text": [
      "Jeraldine, your BMI is: 22.457\n",
      "You are considered to have a normal weight\n"
     ]
    }
   ],
   "source": [
    "name = input (\"Please enter your name: \")\n",
    "weight = int(input(\"Enter your weight in pounds: \"))\n",
    "height_feet = float(input(\"Enter your height in feet and inches (Ex: 5.9): \")) # Using float type to accomadate decimals in height\n",
    "height = height_feet*12 # Converting height in feet and inches to inches only\n",
    "bmi = (weight * 703) / (height * height) # Calculate BMI with the prescribed formula\n",
    "bmi = round(bmi, 3) # Rounding off the BMI to 3 decimal places\n",
    "print(name+',' ' your BMI is:', bmi) # Output the BMI number\n",
    "\n",
    "# Generating if/elif/else statements to find the weight category based on the indicated criteria\n",
    "if bmi > 0:\n",
    "    if 18.5 <= bmi <= 24.9:\n",
    "        print('You are considered to have a normal weight')\n",
    "    elif bmi < 18.5:\n",
    "        print('You are considered underweight')\n",
    "    elif 25 <= bmi <= 29.9:\n",
    "        print('You are considered overweight')\n",
    "    elif 30 <= bmi <= 34.9:\n",
    "        print('You are considered obese')\n",
    "    elif 35 <= bmi <= 39.9:\n",
    "        print('You are considered severely obese')\n",
    "    elif bmi >= 40:\n",
    "        print('You are considered morbidly obese')\n",
    "else:\n",
    "    print('Check your input')\n"
   ]
  },
  {
   "cell_type": "code",
   "execution_count": null,
   "id": "8e1a350e-d4e0-42bf-94ce-a0b264fa669b",
   "metadata": {},
   "outputs": [],
   "source": []
  },
  {
   "cell_type": "code",
   "execution_count": null,
   "id": "2fb062dd-dd4d-4550-a37f-bda168ee61c1",
   "metadata": {},
   "outputs": [],
   "source": []
  },
  {
   "cell_type": "code",
   "execution_count": null,
   "id": "efd7e926-e980-4315-9738-d69240d8f537",
   "metadata": {},
   "outputs": [],
   "source": []
  },
  {
   "cell_type": "code",
   "execution_count": null,
   "id": "25335c9e-1931-4ac6-91ac-48adc9211acd",
   "metadata": {},
   "outputs": [],
   "source": []
  },
  {
   "cell_type": "code",
   "execution_count": null,
   "id": "375d1969-3f30-4815-9e68-e27619510fa2",
   "metadata": {},
   "outputs": [],
   "source": []
  },
  {
   "cell_type": "code",
   "execution_count": null,
   "id": "f15f4841-d1e8-45e9-85ae-63966c0d9103",
   "metadata": {},
   "outputs": [],
   "source": []
  },
  {
   "cell_type": "code",
   "execution_count": null,
   "id": "67b8ee12-fad2-43f5-94e5-cdf67b4156a9",
   "metadata": {},
   "outputs": [],
   "source": []
  },
  {
   "cell_type": "code",
   "execution_count": null,
   "id": "ff7f4f84-d2ee-4a7b-bd80-6643bfc22157",
   "metadata": {},
   "outputs": [],
   "source": []
  },
  {
   "cell_type": "code",
   "execution_count": null,
   "id": "4a9df825-7bee-45cc-89d7-8c1090d45d0c",
   "metadata": {},
   "outputs": [],
   "source": []
  }
 ],
 "metadata": {
  "kernelspec": {
   "display_name": "Python 3 (ipykernel)",
   "language": "python",
   "name": "python3"
  },
  "language_info": {
   "codemirror_mode": {
    "name": "ipython",
    "version": 3
   },
   "file_extension": ".py",
   "mimetype": "text/x-python",
   "name": "python",
   "nbconvert_exporter": "python",
   "pygments_lexer": "ipython3",
   "version": "3.11.7"
  }
 },
 "nbformat": 4,
 "nbformat_minor": 5
}
